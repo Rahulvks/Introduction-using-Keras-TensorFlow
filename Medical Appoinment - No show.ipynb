{
 "cells": [
  {
   "cell_type": "code",
   "execution_count": 3,
   "metadata": {
    "collapsed": false
   },
   "outputs": [
    {
     "name": "stdout",
     "output_type": "stream",
     "text": [
      "   Age Gender DayOfTheWeek  Diabetes  Alcoolism  HiperTension  Handcap  \\\n",
      "0   19      M    Wednesday         0          0             0        0   \n",
      "1   24      F    Wednesday         0          0             0        0   \n",
      "2    4      F      Tuesday         0          0             0        0   \n",
      "3    5      M     Thursday         0          0             0        0   \n",
      "4   38      M      Tuesday         0          0             0        0   \n",
      "\n",
      "   Smokes  Scholarship  Tuberculosis  Sms_Reminder  \n",
      "0       0            0             0             0  \n",
      "1       0            0             0             0  \n",
      "2       0            0             0             0  \n",
      "3       0            0             0             1  \n",
      "4       0            0             0             1  \n"
     ]
    }
   ],
   "source": [
    "import pandas as pds\n",
    "\n",
    "dataframeX = pds.read_csv('/home/nlp/Downloads/No-show-Issue-Comma-300k.csv', usecols=[0, 1, 4, 6, 7, 8, 9, 10, 11, 12, 13])\n",
    "dataframeY = pds.read_csv('/home/nlp/Downloads/No-show-Issue-Comma-300k.csv', usecols=[5])\n",
    "\n",
    "print(dataframeX.head())\n"
   ]
  },
  {
   "cell_type": "code",
   "execution_count": 2,
   "metadata": {
    "collapsed": false
   },
   "outputs": [
    {
     "name": "stdout",
     "output_type": "stream",
     "text": [
      "    Status\n",
      "0  Show-Up\n",
      "1  Show-Up\n",
      "2  Show-Up\n",
      "3  Show-Up\n",
      "4  Show-Up\n"
     ]
    }
   ],
   "source": [
    "print(dataframeY.head())"
   ]
  },
  {
   "cell_type": "code",
   "execution_count": 4,
   "metadata": {
    "collapsed": false
   },
   "outputs": [
    {
     "name": "stdout",
     "output_type": "stream",
     "text": [
      "   Age  Gender  DayOfTheWeek  Diabetes  Alcoolism  HiperTension  Handcap  \\\n",
      "0   19       0             2         0          0             0        0   \n",
      "1   24       1             2         0          0             0        0   \n",
      "2    4       1             1         0          0             0        0   \n",
      "3    5       0             3         0          0             0        0   \n",
      "4   38       0             1         0          0             0        0   \n",
      "\n",
      "   Smokes  Scholarship  Tuberculosis  Sms_Reminder  \n",
      "0       0            0             0             0  \n",
      "1       0            0             0             0  \n",
      "2       0            0             0             0  \n",
      "3       0            0             0             1  \n",
      "4       0            0             0             1  \n",
      "   Status\n",
      "0       1\n",
      "1       1\n",
      "2       1\n",
      "3       1\n",
      "4       1\n"
     ]
    }
   ],
   "source": [
    "def weekdayToInt(weekday):\n",
    "    return {\n",
    "        'Monday': 0,\n",
    "        'Tuesday': 1,\n",
    "        'Wednesday': 2,\n",
    "        'Thursday': 3,\n",
    "        'Friday': 4,\n",
    "        'Saturday': 5,\n",
    "        'Sunday': 6\n",
    "    }[weekday]\n",
    "\n",
    "def genderToInt(gender):\n",
    "    if gender == 'M':\n",
    "        return 0\n",
    "    else:\n",
    "        return 1\n",
    "\n",
    "def statusToInt(status):\n",
    "    if status == 'Show-Up':\n",
    "        return 1\n",
    "    else:\n",
    "        return 0\n",
    "\n",
    "dataframeX.DayOfTheWeek = dataframeX.DayOfTheWeek.apply(weekdayToInt)\n",
    "dataframeX.Gender = dataframeX.Gender.apply(genderToInt)\n",
    "dataframeY.Status = dataframeY.Status.apply(statusToInt)\n",
    "\n",
    "print(dataframeX.head())\n",
    "print(dataframeY.head())"
   ]
  },
  {
   "cell_type": "code",
   "execution_count": 6,
   "metadata": {
    "collapsed": false
   },
   "outputs": [
    {
     "name": "stdout",
     "output_type": "stream",
     "text": [
      "____________________________________________________________________________________________________\n",
      "Layer (type)                     Output Shape          Param #     Connected to                     \n",
      "====================================================================================================\n",
      "dense_5 (Dense)                  (None, 12)            144         dense_input_2[0][0]              \n",
      "____________________________________________________________________________________________________\n",
      "dense_6 (Dense)                  (None, 12)            156         dense_5[0][0]                    \n",
      "____________________________________________________________________________________________________\n",
      "dense_7 (Dense)                  (None, 12)            156         dense_6[0][0]                    \n",
      "____________________________________________________________________________________________________\n",
      "dense_8 (Dense)                  (None, 1)             13          dense_7[0][0]                    \n",
      "====================================================================================================\n",
      "Total params: 469\n",
      "Trainable params: 469\n",
      "Non-trainable params: 0\n",
      "____________________________________________________________________________________________________\n"
     ]
    }
   ],
   "source": [
    "# 1\n",
    "import numpy as np\n",
    "seed = 7\n",
    "np.random.seed(seed)\n",
    "\n",
    "# 2\n",
    "from keras.models import Sequential\n",
    "from keras.layers import Dense\n",
    "model = Sequential()\n",
    "model.add(Dense(12, input_shape=(11,), init='uniform', activation='sigmoid'))\n",
    "model.add(Dense(12, init='uniform', activation='sigmoid'))\n",
    "model.add(Dense(12, init='uniform', activation='sigmoid'))\n",
    "model.add(Dense(1, init='uniform', activation='sigmoid'))\n",
    "model.summary()\n",
    "\n",
    "# 3\n",
    "import keras\n",
    "tbCallBack = keras.callbacks.TensorBoard(log_dir='/tmp/keras_logs', write_graph=True)\n",
    "\n"
   ]
  },
  {
   "cell_type": "code",
   "execution_count": 8,
   "metadata": {
    "collapsed": false
   },
   "outputs": [],
   "source": [
    "# 4\n",
    "model.compile(loss='mean_squared_error', optimizer='adam', metrics=['accuracy'])\n"
   ]
  },
  {
   "cell_type": "code",
   "execution_count": 10,
   "metadata": {
    "collapsed": false
   },
   "outputs": [
    {
     "name": "stdout",
     "output_type": "stream",
     "text": [
      "Train on 210000 samples, validate on 90000 samples\n",
      "Epoch 1/10\n",
      "210000/210000 [==============================] - 7s - loss: 0.2109 - acc: 0.6972 - val_loss: 0.2095 - val_acc: 0.6980\n",
      "Epoch 2/10\n",
      "210000/210000 [==============================] - 7s - loss: 0.2092 - acc: 0.6974 - val_loss: 0.2086 - val_acc: 0.6980\n",
      "Epoch 3/10\n",
      "210000/210000 [==============================] - 7s - loss: 0.2088 - acc: 0.6974 - val_loss: 0.2083 - val_acc: 0.6980\n",
      "Epoch 4/10\n",
      "210000/210000 [==============================] - 8s - loss: 0.2086 - acc: 0.6974 - val_loss: 0.2083 - val_acc: 0.6980\n",
      "Epoch 5/10\n",
      "210000/210000 [==============================] - 7s - loss: 0.2085 - acc: 0.6974 - val_loss: 0.2087 - val_acc: 0.6980\n",
      "Epoch 6/10\n",
      "210000/210000 [==============================] - 7s - loss: 0.2084 - acc: 0.6974 - val_loss: 0.2084 - val_acc: 0.6980\n",
      "Epoch 7/10\n",
      "210000/210000 [==============================] - 7s - loss: 0.2084 - acc: 0.6974 - val_loss: 0.2080 - val_acc: 0.6980\n",
      "Epoch 8/10\n",
      "210000/210000 [==============================] - 7s - loss: 0.2083 - acc: 0.6974 - val_loss: 0.2080 - val_acc: 0.6980\n",
      "Epoch 9/10\n",
      "210000/210000 [==============================] - 7s - loss: 0.2083 - acc: 0.6974 - val_loss: 0.2080 - val_acc: 0.6980\n",
      "Epoch 10/10\n",
      "210000/210000 [==============================] - 7s - loss: 0.2083 - acc: 0.6974 - val_loss: 0.2079 - val_acc: 0.6980\n"
     ]
    },
    {
     "data": {
      "text/plain": [
       "<keras.callbacks.History at 0x7fb0b17be750>"
      ]
     },
     "execution_count": 10,
     "metadata": {},
     "output_type": "execute_result"
    }
   ],
   "source": [
    "model.fit(dataframeX.values, dataframeY.values, batch_size=50,  verbose=1, validation_split=0.3, callbacks=[tbCallBack])"
   ]
  },
  {
   "cell_type": "code",
   "execution_count": null,
   "metadata": {
    "collapsed": false
   },
   "outputs": [],
   "source": [
    "\n"
   ]
  },
  {
   "cell_type": "code",
   "execution_count": null,
   "metadata": {
    "collapsed": true
   },
   "outputs": [],
   "source": []
  }
 ],
 "metadata": {
  "anaconda-cloud": {},
  "kernelspec": {
   "display_name": "Python [default]",
   "language": "python",
   "name": "python2"
  },
  "language_info": {
   "codemirror_mode": {
    "name": "ipython",
    "version": 2
   },
   "file_extension": ".py",
   "mimetype": "text/x-python",
   "name": "python",
   "nbconvert_exporter": "python",
   "pygments_lexer": "ipython2",
   "version": "2.7.13"
  }
 },
 "nbformat": 4,
 "nbformat_minor": 2
}
